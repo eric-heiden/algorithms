{
 "cells": [
  {
   "cell_type": "markdown",
   "metadata": {},
   "source": [
    "# Graham Scan\n",
    "Graham's scan is a method of finding the convex hull of a finite set of points in the plane with time complexity $O(n \\log n)$. It is named after Ronald Graham, who published the original algorithm in 1972. The algorithm finds all vertices of the convex hull ordered along its boundary."
   ]
  },
  {
   "cell_type": "code",
   "execution_count": 21,
   "metadata": {
    "collapsed": true
   },
   "outputs": [],
   "source": [
    "class Point:\n",
    "    def __init__(self, x, y):\n",
    "        self.x = x\n",
    "        self.y = y\n",
    "    \n",
    "    def __repr__(self):\n",
    "        return '(%.2f, %.2f)' % (self.x, self.y)\n",
    "    \n",
    "    def __eq__(self, other):\n",
    "        if isinstance(other, self.__class__):\n",
    "            return self.__dict__ == other.__dict__\n",
    "        else:\n",
    "            return False"
   ]
  },
  {
   "cell_type": "code",
   "execution_count": 5,
   "metadata": {
    "collapsed": false
   },
   "outputs": [],
   "source": [
    "# Three points are a counter-clockwise turn if ccw > 0, clockwise if\n",
    "# ccw < 0, and collinear if ccw = 0 because ccw is a determinant that\n",
    "# gives twice the signed  area of the triangle formed by p1, p2 and p3.\n",
    "def ccw(p1, p2, p3):\n",
    "    return (p2.x - p1.x)*(p3.y - p1.y) - (p2.y - p1.y)*(p3.x - p1.x)"
   ]
  },
  {
   "cell_type": "code",
   "execution_count": 34,
   "metadata": {
    "collapsed": false
   },
   "outputs": [],
   "source": [
    "import math\n",
    "def graham(points):\n",
    "    N = len(points)\n",
    "    if N <= 2:\n",
    "        return points\n",
    "    \n",
    "    # find point with lowest y coordinate\n",
    "    temp = points[0]\n",
    "    base = min(points, key=lambda p: p.y)\n",
    "    points[0] = base\n",
    "    if points.index(base) > 0:\n",
    "        points[points[1:].index(base)] = temp\n",
    "    \n",
    "    def polar_angle(p):\n",
    "        if base.x == p.x:\n",
    "            return 0\n",
    "        angle = math.asin((p.y-base.y) / math.sqrt((p.x-base.x)**2. + (p.y-base.y)**2.))\n",
    "        return angle if base.x < p.x else math.pi-angle\n",
    "            \n",
    "    \n",
    "    points.sort(key=polar_angle)\n",
    "\n",
    "    # We want points[0] to be a sentinel point that will stop the loop.\n",
    "    points.insert(0, points[-1])\n",
    "\n",
    "    # M will denote the number of points on the convex hull.\n",
    "    M = 1\n",
    "    for i in range(2, N+1):\n",
    "        # Find next valid point on convex hull.\n",
    "        while ccw(points[M-1], points[M], points[i]) <= 0:\n",
    "            if M > 1:\n",
    "                M -= 1\n",
    "            # All points are collinear\n",
    "            elif i == N:\n",
    "                break\n",
    "            else:\n",
    "                i += 1\n",
    "\n",
    "        # Update M and swap points[i] to the correct place.\n",
    "        M += 1\n",
    "        temp = points[M]\n",
    "        points[M] = points[i]\n",
    "        points[i] = temp\n",
    "    \n",
    "    return (points[:M], M)"
   ]
  },
  {
   "cell_type": "code",
   "execution_count": 42,
   "metadata": {
    "collapsed": false
   },
   "outputs": [
    {
     "name": "stdout",
     "output_type": "stream",
     "text": [
      "[(-4.00, 4.00), (0.00, 0.00), (3.00, 1.00), (4.00, 7.00), (2.00, 10.00), (-2.00, 8.00)]\n"
     ]
    },
    {
     "data": {
      "image/png": "[encoded data removed]",
      "text/plain": [
       "<matplotlib.figure.Figure at 0xf358c15518>"
      ]
     },
     "metadata": {},
     "output_type": "display_data"
    }
   ],
   "source": [
    "%matplotlib inline\n",
    "import matplotlib.pyplot as plt\n",
    "points = [\n",
    "    Point(0, 0),\n",
    "    Point(1, 2),\n",
    "    Point(.5, 7),\n",
    "    Point(2, 6),\n",
    "    Point(3, 1),\n",
    "    Point(4, 7),\n",
    "    Point(2, 10),\n",
    "    Point(0, 5),\n",
    "    Point(-2, 8),\n",
    "    Point(-2, 5),\n",
    "    Point(-4, 4)\n",
    "]\n",
    "ps = list(map(lambda p: (p.x, p.y), points))\n",
    "plt.plot(*zip(*ps), 'ro')\n",
    "plt.axis([-5, 5, -1, 11])\n",
    "hull, M = graham(points)\n",
    "ps = list(map(lambda p: (p.x, p.y), hull + [hull[0]]))\n",
    "plt.plot(*zip(*ps), 'b-')\n",
    "print(hull)\n",
    "plt.show()"
   ]
  }
 ],
 "metadata": {
  "anaconda-cloud": {},
  "kernelspec": {
   "display_name": "Python [Root]",
   "language": "python",
   "name": "Python [Root]"
  },
  "language_info": {
   "codemirror_mode": {
    "name": "ipython",
    "version": 3
   },
   "file_extension": ".py",
   "mimetype": "text/x-python",
   "name": "python",
   "nbconvert_exporter": "python",
   "pygments_lexer": "ipython3",
   "version": "3.5.2"
  }
 },
 "nbformat": 4,
 "nbformat_minor": 0
}
