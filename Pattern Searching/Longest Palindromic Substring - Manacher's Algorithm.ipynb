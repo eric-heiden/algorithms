{
 "cells": [
  {
   "cell_type": "markdown",
   "metadata": {},
   "source": [
    "# Longest Palindromic Substring - Manacher's Algorithm\n",
    "Manacher's Algorithm is a linear-time algorithm that finds the longest palindromic substring."
   ]
  },
  {
   "cell_type": "code",
   "execution_count": 7,
   "metadata": {
    "collapsed": true
   },
   "outputs": [],
   "source": [
    "input = \"abdascsadcc\""
   ]
  },
  {
   "cell_type": "markdown",
   "metadata": {},
   "source": [
    "Insert special character between two adjacent characters, in front of, and at the back of the input string. Now, we only need to check for palindrome substrings of odd length."
   ]
  },
  {
   "cell_type": "code",
   "execution_count": 8,
   "metadata": {
    "collapsed": false
   },
   "outputs": [
    {
     "data": {
      "text/plain": [
       "'#a#b#d#a#s#c#s#a#d#c#c#'"
      ]
     },
     "execution_count": 8,
     "metadata": {},
     "output_type": "execute_result"
    }
   ],
   "source": [
    "S = '#' + '#'.join(input) + '#'\n",
    "S"
   ]
  },
  {
   "cell_type": "markdown",
   "metadata": {},
   "source": [
    "Let $P[i]$ be the largest integer $d$ such that $S[i-d,\\dots,i+d]$ is a palindrome.  We calculate all $P[i]$s from left to right. When calculating $P[i]$, we have to compare $S[i+1]$ with $S[i-1]$, $S[i+2]$ with $S[i-2]$ and so on. A comparison is successful iff two characters are the same. By memorizing the $P[i]$s, we can skip unnecessary comparisons.\n",
    "\n",
    "Assume $P[a]+a=\\max\\{ P[j]+j :  j<i \\}$. If $P[a]+a \\geq i$, then we have \n",
    "$P[i] \\geq \\min\\{ P[2a-i],  2a-i-(a- P[a])\\}$."
   ]
  },
  {
   "cell_type": "code",
   "execution_count": 11,
   "metadata": {
    "collapsed": false
   },
   "outputs": [
    {
     "data": {
      "text/plain": [
       "'dascsad'"
      ]
     },
     "execution_count": 11,
     "metadata": {},
     "output_type": "execute_result"
    }
   ],
   "source": [
    "P = [1] * len(S)\n",
    "center = 0\n",
    "for i in range(len(S)):\n",
    "    if P[center] + center > i:\n",
    "        P[i] = min(P[2*center-i], P[center]+center-i) \n",
    "    while i - P[i] >= 0 and i + P[i] < len(S) and S[i-P[i]] == S[i+P[i]]:\n",
    "        P[i] += 1\n",
    "    if P[i] > P[center]:\n",
    "        center = i\n",
    "S[center-P[center]+2:center+P[center]:2]"
   ]
  },
  {
   "cell_type": "code",
   "execution_count": 12,
   "metadata": {
    "collapsed": false
   },
   "outputs": [
    {
     "data": {
      "text/plain": [
       "[1, 2, 1, 2, 1, 2, 1, 2, 1, 2, 1, 8, 1, 2, 1, 2, 1, 2, 1, 2, 3, 2, 1]"
      ]
     },
     "execution_count": 12,
     "metadata": {},
     "output_type": "execute_result"
    }
   ],
   "source": [
    "P"
   ]
  }
 ],
 "metadata": {
  "kernelspec": {
   "display_name": "Python [Root]",
   "language": "python",
   "name": "Python [Root]"
  },
  "language_info": {
   "codemirror_mode": {
    "name": "ipython",
    "version": 3
   },
   "file_extension": ".py",
   "mimetype": "text/x-python",
   "name": "python",
   "nbconvert_exporter": "python",
   "pygments_lexer": "ipython3",
   "version": "3.5.2"
  }
 },
 "nbformat": 4,
 "nbformat_minor": 0
}
